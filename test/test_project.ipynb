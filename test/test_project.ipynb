{
 "cells": [
  {
   "cell_type": "code",
   "execution_count": 4,
   "metadata": {},
   "outputs": [],
   "source": [
    "#from arenz_group_python import Project_Paths as pp\n",
    "from pathlib import Path\n",
    "from arenz_group_python import create_project_structure\n",
    "\n",
    "import arenz_group_python"
   ]
  },
  {
   "cell_type": "code",
   "execution_count": 5,
   "metadata": {},
   "outputs": [
    {
     "name": "stdout",
     "output_type": "stream",
     "text": [
      "c:\\Users\\gustav.wiberg\\Documents\\GitHub\\BERN\\Arenz_Group_Python\\TEMP_Project True\n",
      "-\"data_raw\" exists already as a folder\n",
      "-\"data_treated\" exists already as a folder\n",
      "-\"py_scripts\" exists already as a folder\n",
      "-\"notebooks_models\" exists already as a folder\n",
      "-\"notebooks_exploration_cleaning\" exists already as a folder\n",
      "\n",
      "creating files:\n",
      "\n",
      "-\".env\" already exists\n",
      "-\"__init__.py\" already exists\n",
      "-\"c:\\Users\\gustav.wiberg\\Documents\\GitHub\\BERN\\Arenz_Group_Python\\TEMP_Project\\notebooks_models\\modelData.ipynb\" already exists\n",
      "-\"c:\\Users\\gustav.wiberg\\Documents\\GitHub\\BERN\\Arenz_Group_Python\\TEMP_Project\\py_scripts\\my_Module.py\" already exists\n",
      "-\"extractData.ipynb\" already exists\n",
      "-\"copy_data_from_server.ipynb\" already exists\n",
      "-\"README.txt\" already exists\n",
      "-\"README.txt\" already exists\n",
      "-\"extracted_values.csv\" already exists\n"
     ]
    }
   ],
   "source": [
    "\n",
    "\n",
    "\n",
    "pa= Path().cwd().parent / \"TEMP_Project\"\n",
    "print(pa, pa.exists())\n",
    "\n",
    "\n",
    "create_project_structure(pa)\n",
    "\n",
    "#pp.create_project_structure()"
   ]
  },
  {
   "cell_type": "code",
   "execution_count": 9,
   "metadata": {},
   "outputs": [
    {
     "name": "stdout",
     "output_type": "stream",
     "text": [
      "\n",
      "creating files:\n",
      "\n",
      "+\".env\" was created\n",
      "+\"__init__.py\" was created\n"
     ]
    },
    {
     "ename": "FileNotFoundError",
     "evalue": "[Errno 2] No such file or directory: 'notebooks_models/modelData.ipynb'",
     "output_type": "error",
     "traceback": [
      "\u001b[1;31m---------------------------------------------------------------------------\u001b[0m",
      "\u001b[1;31mFileNotFoundError\u001b[0m                         Traceback (most recent call last)",
      "Cell \u001b[1;32mIn[9], line 2\u001b[0m\n\u001b[0;32m      1\u001b[0m pa\u001b[38;5;241m.\u001b[39mmkdir()\n\u001b[1;32m----> 2\u001b[0m \u001b[43mcreate_project_structure\u001b[49m\u001b[43m(\u001b[49m\u001b[43mpa\u001b[49m\u001b[43m)\u001b[49m\n",
      "File \u001b[1;32m~\\Documents\\GitHub\\BERN\\Arenz_Group_Python\\src\\arenz_group_python\\__init__.py:37\u001b[0m, in \u001b[0;36mcreate_project_structure\u001b[1;34m(Path)\u001b[0m\n\u001b[0;32m     32\u001b[0m \u001b[38;5;28;01mdef\u001b[39;00m \u001b[38;5;21mcreate_project_structure\u001b[39m(Path):\n\u001b[0;32m     33\u001b[0m \u001b[38;5;250m    \u001b[39m\u001b[38;5;124;03m\"\"\"The fx creates a standard folder structure for projects.\u001b[39;00m\n\u001b[0;32m     34\u001b[0m \u001b[38;5;124;03m    Args\u001b[39;00m\n\u001b[0;32m     35\u001b[0m \u001b[38;5;124;03m    project_path : Path\u001b[39;00m\n\u001b[0;32m     36\u001b[0m \u001b[38;5;124;03m    Path to the base folder of the project.\"\"\"\u001b[39;00m\n\u001b[1;32m---> 37\u001b[0m     \u001b[38;5;28;01mreturn\u001b[39;00m \u001b[43mProject_Paths\u001b[49m\u001b[43m(\u001b[49m\u001b[43m)\u001b[49m\u001b[38;5;241;43m.\u001b[39;49m\u001b[43mcreate_project_structure\u001b[49m\u001b[43m(\u001b[49m\u001b[43mPath\u001b[49m\u001b[43m)\u001b[49m\n",
      "File \u001b[1;32m~\\Documents\\GitHub\\BERN\\Arenz_Group_Python\\src\\arenz_group_python\\project\\util_paths.py:151\u001b[0m, in \u001b[0;36mProject_Paths.create_project_structure\u001b[1;34m(self, project_path)\u001b[0m\n\u001b[0;32m    148\u001b[0m         \u001b[38;5;28mprint\u001b[39m(\u001b[38;5;124m\"\u001b[39m\u001b[38;5;124mThe path to the project is not correct.\u001b[39m\u001b[38;5;124m\"\u001b[39m)\n\u001b[0;32m    149\u001b[0m         \u001b[38;5;28;01mreturn\u001b[39;00m\n\u001b[1;32m--> 151\u001b[0m \u001b[43mmake_project_files\u001b[49m\u001b[43m(\u001b[49m\u001b[43m \u001b[49m\u001b[43mpp\u001b[49m\u001b[43m)\u001b[49m\n\u001b[0;32m    152\u001b[0m make_project_files_data(pp)\n",
      "File \u001b[1;32m~\\Documents\\GitHub\\BERN\\Arenz_Group_Python\\src\\arenz_group_python\\project\\make_files.py:23\u001b[0m, in \u001b[0;36mmake_project_files\u001b[1;34m(main_dir)\u001b[0m\n\u001b[0;32m     21\u001b[0m \u001b[38;5;28;01mfor\u001b[39;00m file \u001b[38;5;129;01min\u001b[39;00m def_files:\n\u001b[0;32m     22\u001b[0m     \u001b[38;5;28;01mtry\u001b[39;00m:\n\u001b[1;32m---> 23\u001b[0m         fo\u001b[38;5;241m=\u001b[39m \u001b[38;5;28;43mopen\u001b[39;49m\u001b[43m(\u001b[49m\u001b[43mfile\u001b[49m\u001b[43m,\u001b[49m\u001b[38;5;124;43m\"\u001b[39;49m\u001b[38;5;124;43mx\u001b[39;49m\u001b[38;5;124;43m\"\u001b[39;49m\u001b[43m)\u001b[49m\n\u001b[0;32m     24\u001b[0m         fo\u001b[38;5;241m.\u001b[39mclose()\n\u001b[0;32m     25\u001b[0m         \u001b[38;5;28mprint\u001b[39m(\u001b[38;5;124mf\u001b[39m\u001b[38;5;124m\"\u001b[39m\u001b[38;5;124m+\u001b[39m\u001b[38;5;130;01m\\\"\u001b[39;00m\u001b[38;5;132;01m{\u001b[39;00mfile\u001b[38;5;132;01m}\u001b[39;00m\u001b[38;5;130;01m\\\"\u001b[39;00m\u001b[38;5;124m was created\u001b[39m\u001b[38;5;124m\"\u001b[39m)\n",
      "\u001b[1;31mFileNotFoundError\u001b[0m: [Errno 2] No such file or directory: 'notebooks_models/modelData.ipynb'"
     ]
    }
   ],
   "source": [
    "pa.mkdir()\n",
    "create_project_structure(pa)"
   ]
  },
  {
   "cell_type": "code",
   "execution_count": 12,
   "metadata": {},
   "outputs": [
    {
     "name": "stdout",
     "output_type": "stream",
     "text": [
      "0.3.6\n"
     ]
    }
   ],
   "source": [
    "print(arenz_group_python.__version__)"
   ]
  },
  {
   "cell_type": "code",
   "execution_count": 10,
   "metadata": {},
   "outputs": [
    {
     "name": "stdout",
     "output_type": "stream",
     "text": [
      "c:\\Users\\gustav.wiberg\\Documents\\GitHub\\BERN\\Arenz_Group_Python\\data_raw\\FileName.txt\n"
     ]
    }
   ],
   "source": [
    "#from arenz_group_python import pDATA_RAW, pDATA_TREATED\n",
    "import arenz_group_python\n",
    "file = pDATA_RAW / \"FileName.txt\"\n",
    "print(file)"
   ]
  },
  {
   "cell_type": "code",
   "execution_count": 11,
   "metadata": {},
   "outputs": [
    {
     "name": "stdout",
     "output_type": "stream",
     "text": [
      "c:\\Users\\gustav.wiberg\\Documents\\GitHub\\BERN\\Arenz_Group_Python\\data_treated\n",
      "c:\\Users\\gustav.wiberg\\Documents\\GitHub\\BERN\\Arenz_Group_Python\\data_treated\\FileName2.txt\n"
     ]
    }
   ],
   "source": [
    "print(pDATA_TREATED)\n",
    "file2 = pDATA_TREATED / \"FileName2.txt\"\n",
    "print(file2)"
   ]
  }
 ],
 "metadata": {
  "kernelspec": {
   "display_name": "Python 3",
   "language": "python",
   "name": "python3"
  },
  "language_info": {
   "codemirror_mode": {
    "name": "ipython",
    "version": 3
   },
   "file_extension": ".py",
   "mimetype": "text/x-python",
   "name": "python",
   "nbconvert_exporter": "python",
   "pygments_lexer": "ipython3",
   "version": "3.11.5"
  }
 },
 "nbformat": 4,
 "nbformat_minor": 2
}
