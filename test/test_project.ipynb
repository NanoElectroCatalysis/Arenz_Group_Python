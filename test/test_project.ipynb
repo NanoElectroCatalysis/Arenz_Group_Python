{
 "cells": [
  {
   "cell_type": "code",
   "execution_count": 2,
   "metadata": {},
   "outputs": [],
   "source": [
    "from arenz_group_python import Project_Paths as pp\n",
    "from pathlib import Path "
   ]
  },
  {
   "cell_type": "code",
   "execution_count": 8,
   "metadata": {},
   "outputs": [
    {
     "name": "stdout",
     "output_type": "stream",
     "text": [
      "c:\\Users\\gustav.wiberg\\Documents\\GitHub\\BERN\\Arenz_Group_Python\\TEMP_Project\n",
      "\n",
      "creating files:\n",
      "\n",
      "+\".env\" was created\n",
      "+\"__init__.py\" was created\n",
      "-\"notebooks_models/modelData.ipynb\" already exists\n",
      "-\"py_scripts/my_Module.py\" already exists\n",
      "+\"extractData.ipynb\" was created\n",
      "+\"copy_data_from_server.ipynb\" was created\n",
      "+\"README.txt\" was created\n",
      "+\"README.txt\" was created\n",
      "+\"extracted_values.csv\" was created\n"
     ]
    }
   ],
   "source": [
    "pa= Path().cwd().parent / \"TEMP_Project\"\n",
    "print(pa)\n",
    "\n",
    "\n",
    "pp().create_project_structure(pa)\n",
    "#pp.create_project_structure()"
   ]
  }
 ],
 "metadata": {
  "kernelspec": {
   "display_name": "Python 3",
   "language": "python",
   "name": "python3"
  },
  "language_info": {
   "codemirror_mode": {
    "name": "ipython",
    "version": 3
   },
   "file_extension": ".py",
   "mimetype": "text/x-python",
   "name": "python",
   "nbconvert_exporter": "python",
   "pygments_lexer": "ipython3",
   "version": "3.11.5"
  }
 },
 "nbformat": 4,
 "nbformat_minor": 2
}
