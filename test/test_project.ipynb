{
 "cells": [
  {
   "cell_type": "code",
   "execution_count": 1,
   "metadata": {},
   "outputs": [
    {
     "name": "stdout",
     "output_type": "stream",
     "text": [
      "\"data_raw\" could not be found as a branch of the folder tree form the notebook.\n",
      "Please use standard project structure.\n",
      "Project_Paths().create_project_structure()\n",
      "from the root of the project.\n",
      "\n",
      "\"data_treated\" could not be found as a branch of the folder tree form the notebook.\n",
      "Please use standard project structure.\n",
      "Project_Paths().create_project_structure()\n",
      "from the root of the project.\n",
      "\n"
     ]
    }
   ],
   "source": [
    "from arenz_group_python import Project_Paths as pp\n",
    "from pathlib import Path\n",
    "#from arenz_group_python import create_project_structure\n",
    "\n",
    "import arenz_group_python"
   ]
  },
  {
   "cell_type": "code",
   "execution_count": 2,
   "metadata": {},
   "outputs": [
    {
     "name": "stdout",
     "output_type": "stream",
     "text": [
      "['c:\\\\Users\\\\gusta\\\\Documents\\\\GitHub\\\\UNIBE\\\\Arenz_Group_Python\\\\src', 'c:\\\\Users\\\\gusta\\\\Documents\\\\GitHub\\\\UNIBE\\\\Arenz_Group_Python\\\\test', 'c:\\\\Users\\\\gusta\\\\AppData\\\\Local\\\\Programs\\\\Python\\\\Python313\\\\python313.zip', 'c:\\\\Users\\\\gusta\\\\AppData\\\\Local\\\\Programs\\\\Python\\\\Python313\\\\DLLs', 'c:\\\\Users\\\\gusta\\\\AppData\\\\Local\\\\Programs\\\\Python\\\\Python313\\\\Lib', 'c:\\\\Users\\\\gusta\\\\AppData\\\\Local\\\\Programs\\\\Python\\\\Python313', '', 'C:\\\\Users\\\\gusta\\\\AppData\\\\Roaming\\\\Python\\\\Python313\\\\site-packages', 'C:\\\\Users\\\\gusta\\\\AppData\\\\Roaming\\\\Python\\\\Python313\\\\site-packages\\\\win32', 'C:\\\\Users\\\\gusta\\\\AppData\\\\Roaming\\\\Python\\\\Python313\\\\site-packages\\\\win32\\\\lib', 'C:\\\\Users\\\\gusta\\\\AppData\\\\Roaming\\\\Python\\\\Python313\\\\site-packages\\\\Pythonwin', 'c:\\\\Users\\\\gusta\\\\AppData\\\\Local\\\\Programs\\\\Python\\\\Python313\\\\Lib\\\\site-packages']\n"
     ]
    }
   ],
   "source": [
    "import sys\n",
    "print(sys.path)"
   ]
  },
  {
   "cell_type": "code",
   "execution_count": 3,
   "metadata": {},
   "outputs": [
    {
     "name": "stdout",
     "output_type": "stream",
     "text": [
      "c:\\Users\\gusta\\Documents\\GitHub\\UNIBE\\Arenz_Group_Python\\TEMP_Project True\n",
      "-\"data_raw\" exists already as a folder\n",
      "-\"data_treated\" exists already as a folder\n",
      "-\"py_scripts\" exists already as a folder\n",
      "-\"notebooks_models\" exists already as a folder\n",
      "-\"notebooks_exploration_cleaning\" exists already as a folder\n",
      "\n",
      "creating files:\n",
      "\n",
      "-\".env\" already exists\n",
      "+\"requirements.txt\" was created or updated\n",
      "-\"__init__.py\" already exists\n",
      "-\"copy_data_from_server.ipynb\" already exists\n",
      "-\"Project_Update_All_Modules.ipynb\" already exists\n",
      "-\"c:\\Users\\gusta\\Documents\\GitHub\\UNIBE\\Arenz_Group_Python\\TEMP_Project\\notebooks_models\\modelData.ipynb\" already exists\n",
      "-\"c:\\Users\\gusta\\Documents\\GitHub\\UNIBE\\Arenz_Group_Python\\TEMP_Project\\py_scripts\\my_Module.py\" already exists\n",
      "-\"extractData.ipynb\" already exists\n",
      "-\"README.txt\" already exists\n",
      "-\"README.txt\" already exists\n",
      "-\"extracted_values.csv\" already exists\n"
     ]
    }
   ],
   "source": [
    "\n",
    "\n",
    "\n",
    "pa= Path().cwd().parent / \"TEMP_Project\"\n",
    "print(pa, pa.exists())\n",
    "\n",
    "\n",
    "pp().create_project_structure(pa)\n",
    "\n",
    "#pp.create_project_structure()"
   ]
  },
  {
   "cell_type": "code",
   "execution_count": 4,
   "metadata": {},
   "outputs": [
    {
     "ename": "FileExistsError",
     "evalue": "[WinError 183] Cannot create a file when that file already exists: 'c:\\\\Users\\\\gusta\\\\Documents\\\\GitHub\\\\UNIBE\\\\Arenz_Group_Python\\\\TEMP_Project'",
     "output_type": "error",
     "traceback": [
      "\u001b[1;31m---------------------------------------------------------------------------\u001b[0m",
      "\u001b[1;31mFileExistsError\u001b[0m                           Traceback (most recent call last)",
      "Cell \u001b[1;32mIn[4], line 1\u001b[0m\n\u001b[1;32m----> 1\u001b[0m \u001b[43mpa\u001b[49m\u001b[38;5;241;43m.\u001b[39;49m\u001b[43mmkdir\u001b[49m\u001b[43m(\u001b[49m\u001b[43m)\u001b[49m\n\u001b[0;32m      2\u001b[0m create_project_structure(pa)\n",
      "File \u001b[1;32mc:\\Users\\gusta\\AppData\\Local\\Programs\\Python\\Python313\\Lib\\pathlib\\_local.py:722\u001b[0m, in \u001b[0;36mPath.mkdir\u001b[1;34m(self, mode, parents, exist_ok)\u001b[0m\n\u001b[0;32m    718\u001b[0m \u001b[38;5;250m\u001b[39m\u001b[38;5;124;03m\"\"\"\u001b[39;00m\n\u001b[0;32m    719\u001b[0m \u001b[38;5;124;03mCreate a new directory at this given path.\u001b[39;00m\n\u001b[0;32m    720\u001b[0m \u001b[38;5;124;03m\"\"\"\u001b[39;00m\n\u001b[0;32m    721\u001b[0m \u001b[38;5;28;01mtry\u001b[39;00m:\n\u001b[1;32m--> 722\u001b[0m     \u001b[43mos\u001b[49m\u001b[38;5;241;43m.\u001b[39;49m\u001b[43mmkdir\u001b[49m\u001b[43m(\u001b[49m\u001b[38;5;28;43mself\u001b[39;49m\u001b[43m,\u001b[49m\u001b[43m \u001b[49m\u001b[43mmode\u001b[49m\u001b[43m)\u001b[49m\n\u001b[0;32m    723\u001b[0m \u001b[38;5;28;01mexcept\u001b[39;00m \u001b[38;5;167;01mFileNotFoundError\u001b[39;00m:\n\u001b[0;32m    724\u001b[0m     \u001b[38;5;28;01mif\u001b[39;00m \u001b[38;5;129;01mnot\u001b[39;00m parents \u001b[38;5;129;01mor\u001b[39;00m \u001b[38;5;28mself\u001b[39m\u001b[38;5;241m.\u001b[39mparent \u001b[38;5;241m==\u001b[39m \u001b[38;5;28mself\u001b[39m:\n",
      "\u001b[1;31mFileExistsError\u001b[0m: [WinError 183] Cannot create a file when that file already exists: 'c:\\\\Users\\\\gusta\\\\Documents\\\\GitHub\\\\UNIBE\\\\Arenz_Group_Python\\\\TEMP_Project'"
     ]
    }
   ],
   "source": [
    "pa.mkdir()\n",
    "create_project_structure(pa)"
   ]
  },
  {
   "cell_type": "code",
   "execution_count": 12,
   "metadata": {},
   "outputs": [
    {
     "name": "stdout",
     "output_type": "stream",
     "text": [
      "0.3.6\n"
     ]
    }
   ],
   "source": [
    "print(arenz_group_python.__version__)"
   ]
  },
  {
   "cell_type": "code",
   "execution_count": 10,
   "metadata": {},
   "outputs": [
    {
     "name": "stdout",
     "output_type": "stream",
     "text": [
      "c:\\Users\\gustav.wiberg\\Documents\\GitHub\\BERN\\Arenz_Group_Python\\data_raw\\FileName.txt\n"
     ]
    }
   ],
   "source": [
    "#from arenz_group_python import pDATA_RAW, pDATA_TREATED\n",
    "import arenz_group_python\n",
    "file = pDATA_RAW / \"FileName.txt\"\n",
    "print(file)"
   ]
  },
  {
   "cell_type": "code",
   "execution_count": 11,
   "metadata": {},
   "outputs": [
    {
     "name": "stdout",
     "output_type": "stream",
     "text": [
      "c:\\Users\\gustav.wiberg\\Documents\\GitHub\\BERN\\Arenz_Group_Python\\data_treated\n",
      "c:\\Users\\gustav.wiberg\\Documents\\GitHub\\BERN\\Arenz_Group_Python\\data_treated\\FileName2.txt\n"
     ]
    }
   ],
   "source": [
    "print(pDATA_TREATED)\n",
    "file2 = pDATA_TREATED / \"FileName2.txt\"\n",
    "print(file2)"
   ]
  }
 ],
 "metadata": {
  "kernelspec": {
   "display_name": "Python 3",
   "language": "python",
   "name": "python3"
  },
  "language_info": {
   "codemirror_mode": {
    "name": "ipython",
    "version": 3
   },
   "file_extension": ".py",
   "mimetype": "text/x-python",
   "name": "python",
   "nbconvert_exporter": "python",
   "pygments_lexer": "ipython3",
   "version": "3.13.0"
  }
 },
 "nbformat": 4,
 "nbformat_minor": 2
}
