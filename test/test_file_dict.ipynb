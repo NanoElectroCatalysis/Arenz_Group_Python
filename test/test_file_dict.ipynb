{
 "cells": [
  {
   "cell_type": "code",
   "execution_count": 1,
   "metadata": {},
   "outputs": [
    {
     "name": "stdout",
     "output_type": "stream",
     "text": [
      "\"data_raw\" could not be found as a branch of the folder tree form the notebook.\n",
      "Please use standard project structure.\n",
      "Project_Paths().create_project_structure()\n",
      "from the root of the project.\n",
      "\n",
      "\"data_treated\" could not be found as a branch of the folder tree form the notebook.\n",
      "Please use standard project structure.\n",
      "Project_Paths().create_project_structure()\n",
      "from the root of the project.\n",
      "\n"
     ]
    }
   ],
   "source": [
    "#from arenz_group_python import Project_Paths as pp\n",
    "from pathlib import Path\n",
    "from arenz_group_python import save_dict_to_file,load_dict_from_file,save_dict_to_tableFile,open_dict_from_tablefile\n"
   ]
  },
  {
   "cell_type": "code",
   "execution_count": 2,
   "metadata": {},
   "outputs": [
    {
     "name": "stdout",
     "output_type": "stream",
     "text": [
      "c:\\Users\\gustav.wiberg\\Documents\\GitHub\\BERN\\Arenz_Group_Python\\TEMP_Project True\n"
     ]
    }
   ],
   "source": [
    "pa= Path().cwd().parent / \"TEMP_Project\"\n",
    "print(pa, pa.exists())\n",
    "\n",
    "try:\n",
    "    pa.mkdir()\n",
    "except:\n",
    "    pass\n"
   ]
  },
  {
   "cell_type": "code",
   "execution_count": 3,
   "metadata": {},
   "outputs": [],
   "source": [
    "file_path= pa / \"My_Dict_File.txt\"\n",
    "keyValues= {\n",
    "    \"firstKey\" : 5.23,\n",
    "    \"secondKey\": \"A string\" \n",
    "}\n",
    "keyValues[\"thridKey\"] = 32.543\n",
    "\n",
    "save_dict_to_file(file_path,keyValues)"
   ]
  },
  {
   "cell_type": "code",
   "execution_count": 4,
   "metadata": {},
   "outputs": [
    {
     "name": "stdout",
     "output_type": "stream",
     "text": [
      "{'firstKey': 5.23, 'secondKey': 'A string', 'thridKey': 32.543}\n",
      "{'firstKey': 5.23, 'secondKey': 'A string', 'thridKey': 32.543}\n"
     ]
    }
   ],
   "source": [
    "print(keyValues)\n",
    "keyValues_B = load_dict_from_file(file_path)\n",
    "print(keyValues_B)"
   ]
  },
  {
   "cell_type": "code",
   "execution_count": 9,
   "metadata": {},
   "outputs": [
    {
     "name": "stdout",
     "output_type": "stream",
     "text": [
      "Sample1 was already in the list: updating\n"
     ]
    }
   ],
   "source": [
    "TB_file_path= pa / \"TableFile.txt\"\n",
    "sample_name = \"Sample1\"\n",
    "save_dict_to_tableFile(TB_file_path,sample_name, keyValues)\n",
    "\n"
   ]
  },
  {
   "cell_type": "code",
   "execution_count": 10,
   "metadata": {},
   "outputs": [
    {
     "name": "stdout",
     "output_type": "stream",
     "text": [
      "Sample2 was already in the list: updating\n"
     ]
    }
   ],
   "source": [
    "#Sample 2\n",
    "S2_keyValues= {\n",
    "    \"firstKey\" : 34.23,\n",
    "    \"secondKey\": \"sample 2 string\" ,\n",
    "    \"thridKey\" : 2321\n",
    "}\n",
    "sample2_name = \"Sample2\"\n",
    "save_dict_to_tableFile(TB_file_path,sample2_name, S2_keyValues)"
   ]
  },
  {
   "cell_type": "code",
   "execution_count": 11,
   "metadata": {},
   "outputs": [
    {
     "name": "stdout",
     "output_type": "stream",
     "text": [
      "object Sample1  no\n",
      "object A string  no\n"
     ]
    },
    {
     "data": {
      "text/html": [
       "<div>\n",
       "<style scoped>\n",
       "    .dataframe tbody tr th:only-of-type {\n",
       "        vertical-align: middle;\n",
       "    }\n",
       "\n",
       "    .dataframe tbody tr th {\n",
       "        vertical-align: top;\n",
       "    }\n",
       "\n",
       "    .dataframe thead th {\n",
       "        text-align: right;\n",
       "    }\n",
       "</style>\n",
       "<table border=\"1\" class=\"dataframe\">\n",
       "  <thead>\n",
       "    <tr style=\"text-align: right;\">\n",
       "      <th></th>\n",
       "      <th>name</th>\n",
       "      <th>firstKey</th>\n",
       "      <th>secondKey</th>\n",
       "      <th>thridKey</th>\n",
       "    </tr>\n",
       "  </thead>\n",
       "  <tbody>\n",
       "    <tr>\n",
       "      <th>0</th>\n",
       "      <td>Sample1</td>\n",
       "      <td>5.23</td>\n",
       "      <td>A string</td>\n",
       "      <td>32.543</td>\n",
       "    </tr>\n",
       "    <tr>\n",
       "      <th>1</th>\n",
       "      <td>Sample2</td>\n",
       "      <td>34.23</td>\n",
       "      <td>sample 2 string</td>\n",
       "      <td>2321.000</td>\n",
       "    </tr>\n",
       "  </tbody>\n",
       "</table>\n",
       "</div>"
      ],
      "text/plain": [
       "      name  firstKey        secondKey  thridKey\n",
       "0  Sample1      5.23         A string    32.543\n",
       "1  Sample2     34.23  sample 2 string  2321.000"
      ]
     },
     "execution_count": 11,
     "metadata": {},
     "output_type": "execute_result"
    }
   ],
   "source": [
    "open_dict_from_tablefile(TB_file_path)"
   ]
  }
 ],
 "metadata": {
  "kernelspec": {
   "display_name": "Python 3",
   "language": "python",
   "name": "python3"
  },
  "language_info": {
   "codemirror_mode": {
    "name": "ipython",
    "version": 3
   },
   "file_extension": ".py",
   "mimetype": "text/x-python",
   "name": "python",
   "nbconvert_exporter": "python",
   "pygments_lexer": "ipython3",
   "version": "3.11.5"
  }
 },
 "nbformat": 4,
 "nbformat_minor": 2
}
