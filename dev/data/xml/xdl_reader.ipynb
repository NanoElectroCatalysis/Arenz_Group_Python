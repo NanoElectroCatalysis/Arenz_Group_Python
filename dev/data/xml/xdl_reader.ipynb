{
 "cells": [
  {
   "cell_type": "code",
   "execution_count": 1,
   "id": "ac6b47f0",
   "metadata": {},
   "outputs": [],
   "source": [
    "import xml.etree.ElementTree as ET\n",
    "import ec4py\n",
    "from ec4py import Quantity_Value_Unit as QV\n",
    "f = open(\"SPR-SN161.xdl\", \"r\")\n",
    "xml= f.read()\n",
    "f.close()\n"
   ]
  },
  {
   "cell_type": "code",
   "execution_count": 2,
   "id": "274610c8",
   "metadata": {},
   "outputs": [],
   "source": [
    "tree = ET.fromstring(xml)\n",
    "root = tree.get(\"root\")\n",
    "syn = tree.find(\"Synthesis\")"
   ]
  },
  {
   "cell_type": "code",
   "execution_count": 15,
   "id": "d9787e5d",
   "metadata": {},
   "outputs": [
    {
     "name": "stdout",
     "output_type": "stream",
     "text": [
      "pt mass: 8.000e-04 g\n",
      "vol_aq: 1.392e-05 l\n",
      "vol_H2O: 8.900e-05 l\n",
      "vol_ISO: 3.810e-04 l\n",
      "\n",
      "TOTAL VOL: 4.839e-04 l\n"
     ]
    }
   ],
   "source": [
    "Reagents  =syn.find(\"Reagents\")\n",
    "vol=QV()\n",
    "pt_mass =QV()\n",
    "vol_ISO =QV()\n",
    "vol_H2O =QV()\n",
    "vol_aq =QV()\n",
    "\n",
    "for child in Reagents :\n",
    "    #print(child.tag, child.attrib)\n",
    "    if(child.attrib[\"quantity\"] !=\"\"):\n",
    "        q = QV(child.attrib[\"quantity\"])\n",
    "        #if q.find('l')!=-1:\n",
    "        #    vol =vol+ float(q.split()[0])\n",
    "        #    print(vol)\n",
    "        if(child.attrib[\"name\"] == \"TEC10E30E\"):\n",
    "            #pt_mass = float(q.split()[0])\n",
    "            pt_mass = q\n",
    "            pt_mass._quantity=\"m\"\n",
    "            print(\"pt mass:\", pt_mass)\n",
    "            \n",
    "        if(child.attrib[\"name\"] == \"Aquivion Dispersion D79-25BS\"):\n",
    "            vol_aq = q\n",
    "            vol_aq._quantity = \"V\"\n",
    "            print(\"vol_aq:\", vol_aq)\n",
    "        if(child.attrib[\"id\"] == \"ISOPROPANOL\"):\n",
    "            vol_ISO = q\n",
    "            vol_ISO._quantity = \"V\"\n",
    "            print(\"vol_ISO:\", vol_ISO)\n",
    "        if(child.attrib[\"id\"] == \"WATER\"):\n",
    "            vol_H2O = q\n",
    "            vol_H2O._quantity=\"V\"\n",
    "            print(\"vol_H2O:\", vol_H2O)\n",
    "        \n",
    "vol=vol_aq+vol_H2O+vol_ISO\n",
    "print(\"\\nTOTAL VOL:\", vol )  "
   ]
  }
 ],
 "metadata": {
  "kernelspec": {
   "display_name": "Python 3",
   "language": "python",
   "name": "python3"
  },
  "language_info": {
   "codemirror_mode": {
    "name": "ipython",
    "version": 3
   },
   "file_extension": ".py",
   "mimetype": "text/x-python",
   "name": "python",
   "nbconvert_exporter": "python",
   "pygments_lexer": "ipython3",
   "version": "3.11.5"
  }
 },
 "nbformat": 4,
 "nbformat_minor": 5
}
