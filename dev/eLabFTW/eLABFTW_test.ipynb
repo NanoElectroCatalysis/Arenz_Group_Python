{
 "cells": [
  {
   "cell_type": "markdown",
   "metadata": {},
   "source": [
    "# General installation from github\n",
    "This notebook creates a basic project structure. \n",
    "It is based on the article:\n",
    "https://github.com/elabftw/elabapi-python/tree/master/examples\n"
   ]
  },
  {
   "cell_type": "code",
   "execution_count": 1,
   "metadata": {},
   "outputs": [
    {
     "name": "stdout",
     "output_type": "stream",
     "text": [
      "\"data_treated\" could not be found as a branch of the folder tree form the notebook.\n",
      "Please use standard project structure.\n",
      "Project_Paths().create_project_structure()\n",
      "from the root of the project.\n",
      "\n"
     ]
    }
   ],
   "source": [
    "from arenz_group_python import Project_Paths\n",
    "from arenz_group_python import elabftw\n",
    "from arenz_group_python.elabftw.elabftw import api_client,API_HOST_URL\n",
    "import elabapi_python\n",
    "#Path of the file.\n"
   ]
  },
  {
   "cell_type": "code",
   "execution_count": 2,
   "metadata": {},
   "outputs": [
    {
     "name": "stdout",
     "output_type": "stream",
     "text": [
      "Connected to DB.\n",
      "https://elabftw.dcbp.unibe.ch/api/v2\n"
     ]
    }
   ],
   "source": [
    "elabftw.connect()\n",
    "print(API_HOST_URL)"
   ]
  },
  {
   "cell_type": "code",
   "execution_count": 3,
   "metadata": {},
   "outputs": [
    {
     "name": "stdout",
     "output_type": "stream",
     "text": [
      "https://elabftw.dcbp.unibe.ch/api/v2\n"
     ]
    }
   ],
   "source": [
    "from arenz_group_python.elabftw.elabftw import EXPERIMENTS_API\n",
    "\n",
    "print(EXPERIMENTS_API.api_client.configuration.host)"
   ]
  },
  {
   "cell_type": "code",
   "execution_count": null,
   "metadata": {},
   "outputs": [],
   "source": []
  },
  {
   "cell_type": "code",
   "execution_count": 4,
   "metadata": {},
   "outputs": [
    {
     "name": "stdout",
     "output_type": "stream",
     "text": [
      "INK-JF060 8\n",
      "INK-JF059 14\n",
      "ATS-JF060 6\n"
     ]
    }
   ],
   "source": [
    "\n",
    "\n",
    "a = EXPERIMENTS_API.read_experiments(q=\"ATS-JF060\")\n",
    "len(a)\n",
    "for i in a:\n",
    "    print(i.title, i.id)"
   ]
  },
  {
   "cell_type": "code",
   "execution_count": null,
   "metadata": {},
   "outputs": [],
   "source": []
  },
  {
   "cell_type": "code",
   "execution_count": 5,
   "metadata": {},
   "outputs": [
    {
     "data": {
      "text/plain": [
       "8"
      ]
     },
     "metadata": {},
     "output_type": "display_data"
    }
   ],
   "source": [
    "display(elabftw.get_experiment_ID(\"INK-JF060\"))\n"
   ]
  },
  {
   "cell_type": "code",
   "execution_count": 6,
   "metadata": {},
   "outputs": [
    {
     "data": {
      "text/plain": [
       "8"
      ]
     },
     "metadata": {},
     "output_type": "display_data"
    }
   ],
   "source": [
    "display(elabftw.get_experiment_ID(\"INK-JF060\"))"
   ]
  },
  {
   "cell_type": "code",
   "execution_count": 7,
   "metadata": {},
   "outputs": [
    {
     "data": {
      "text/plain": [
       "{'_date': '2025-05-05',\n",
       " 'access_key': None,\n",
       " 'body': 'Ink Preparation Calculation Results\\n'\n",
       "         '-----------------------------------\\n'\n",
       "         '\\n'\n",
       "         '0. Catalyst Information\\n'\n",
       "         '- Catalyst: ATS-JF060\\n'\n",
       "         '- Composition: Ir 1.0\\n'\n",
       "         '- Support: ATO\\n'\n",
       "         '\\n'\n",
       "         '1. Catalyst Inputs\\n'\n",
       "         '- Catalyst Stock Metal Concentration: 2.5 mg/ml\\n'\n",
       "         '- Metal Loading on Support: 50 wt%\\n'\n",
       "         '- Target Metal Loading on Electrode: 50 µg/cm²\\n'\n",
       "         '- Electrode Area: 0.196 cm²\\n'\n",
       "         '\\n'\n",
       "         '2. Ink Design Targets\\n'\n",
       "         '- Final Ink Volume: 1 ml\\n'\n",
       "         '- Target Metal Concentration in Ink: 2 mg/ml\\n'\n",
       "         '\\n'\n",
       "         '3. Binder Inputs\\n'\n",
       "         '- Binder Stock Concentration: 5 wt%\\n'\n",
       "         '- Binder Calculation Mode: content\\n'\n",
       "         '- Target Binder Content: 25 wt%\\n'\n",
       "         '\\n'\n",
       "         '4. Calculated Results\\n'\n",
       "         '- Required Catalyst Stock Volume: 800.0 µl\\n'\n",
       "         '- Required Binder Stock Volume: 28.86 µl\\n'\n",
       "         '- Remaining Solvent Volume to Add: 171.14 µl\\n'\n",
       "         '- Geometric Binder Loading: 33.33 µg/cm²\\n'\n",
       "         '- Required Ink Volume to Drop-cast: 4.9 µl\\n'\n",
       "         '\\n'\n",
       "         '# Procedure\\n'\n",
       "         '\\n'\n",
       "         'The ink was prepared according to the parameters above. A mixture of '\n",
       "         '2:1 water:iPrOH was used as solvent. The ink was sonicated very '\n",
       "         'shortly (5-10 seconds) with a sonication horn at 20%  to increase '\n",
       "         'dispersion.\\n',\n",
       " 'body_html': '<h2>Ink Preparation Calculation Results</h2>\\n'\n",
       "              '<ol start=\"0\">\\n'\n",
       "              '<li>Catalyst Information</li>\\n'\n",
       "              '</ol>\\n'\n",
       "              '<ul>\\n'\n",
       "              '<li>Catalyst: ATS-JF060</li>\\n'\n",
       "              '<li>Composition: Ir 1.0</li>\\n'\n",
       "              '<li>Support: ATO</li>\\n'\n",
       "              '</ul>\\n'\n",
       "              '<ol>\\n'\n",
       "              '<li>Catalyst Inputs</li>\\n'\n",
       "              '</ol>\\n'\n",
       "              '<ul>\\n'\n",
       "              '<li>Catalyst Stock Metal Concentration: 2.5 mg/ml</li>\\n'\n",
       "              '<li>Metal Loading on Support: 50 wt%</li>\\n'\n",
       "              '<li>Target Metal Loading on Electrode: 50 µg/cm²</li>\\n'\n",
       "              '<li>Electrode Area: 0.196 cm²</li>\\n'\n",
       "              '</ul>\\n'\n",
       "              '<ol start=\"2\">\\n'\n",
       "              '<li>Ink Design Targets</li>\\n'\n",
       "              '</ol>\\n'\n",
       "              '<ul>\\n'\n",
       "              '<li>Final Ink Volume: 1 ml</li>\\n'\n",
       "              '<li>Target Metal Concentration in Ink: 2 mg/ml</li>\\n'\n",
       "              '</ul>\\n'\n",
       "              '<ol start=\"3\">\\n'\n",
       "              '<li>Binder Inputs</li>\\n'\n",
       "              '</ol>\\n'\n",
       "              '<ul>\\n'\n",
       "              '<li>Binder Stock Concentration: 5 wt%</li>\\n'\n",
       "              '<li>Binder Calculation Mode: content</li>\\n'\n",
       "              '<li>Target Binder Content: 25 wt%</li>\\n'\n",
       "              '</ul>\\n'\n",
       "              '<ol start=\"4\">\\n'\n",
       "              '<li>Calculated Results</li>\\n'\n",
       "              '</ol>\\n'\n",
       "              '<ul>\\n'\n",
       "              '<li>Required Catalyst Stock Volume: 800.0 µl</li>\\n'\n",
       "              '<li>Required Binder Stock Volume: 28.86 µl</li>\\n'\n",
       "              '<li>Remaining Solvent Volume to Add: 171.14 µl</li>\\n'\n",
       "              '<li>Geometric Binder Loading: 33.33 µg/cm²</li>\\n'\n",
       "              '<li>Required Ink Volume to Drop-cast: 4.9 µl</li>\\n'\n",
       "              '</ul>\\n'\n",
       "              '<h1>Procedure</h1>\\n'\n",
       "              '<p>The ink was prepared according to the parameters above. A '\n",
       "              'mixture of 2:1 water:iPrOH was used as solvent. The ink was '\n",
       "              'sonicated very shortly (5-10 seconds) with a sonication horn at '\n",
       "              '20%  to increase dispersion.</p>',\n",
       " 'canread': '{\"base\": 30, \"teams\": [5], \"users\": [], \"teamgroups\": []}',\n",
       " 'canwrite': '{\"base\": 20, \"teams\": [5], \"users\": [], \"teamgroups\": []}',\n",
       " 'category': 9,\n",
       " 'category_color': '92065f',\n",
       " 'category_title': 'INK',\n",
       " 'comments': [],\n",
       " 'content_type': 2,\n",
       " 'created_at': '2025-05-14 11:34:36',\n",
       " 'custom_id': None,\n",
       " 'elabid': '20250514-7669ca8abc63c7802c185d9b376810a189825272',\n",
       " 'exclusive_edit_mode': {'is_stale': None,\n",
       "                         'locked_at': None,\n",
       "                         'locked_by': None,\n",
       "                         'locked_by_human': None},\n",
       " 'experiments_links': [{'category_color': '1b92e1',\n",
       "                        'category_title': 'Synt Autoclave (ATS)',\n",
       "                        'custom_id': None,\n",
       "                        'entityid': 6,\n",
       "                        'is_bookable': None,\n",
       "                        'link_state': 1,\n",
       "                        'page': 'experiments.php',\n",
       "                        'status_color': '54AA08',\n",
       "                        'status_title': 'Success',\n",
       "                        'title': 'ATS-JF060',\n",
       "                        'type': 'experiments'}],\n",
       " 'firstname': 'Jonas',\n",
       " 'fullname': 'Jonas Forner',\n",
       " 'has_attachement': None,\n",
       " 'has_comment': 0,\n",
       " 'id': 8,\n",
       " 'items_links': [],\n",
       " 'lastchangeby': 14,\n",
       " 'lastname': 'Forner',\n",
       " 'locked': 0,\n",
       " 'locked_at': None,\n",
       " 'lockedby': None,\n",
       " 'metadata': None,\n",
       " 'modified_at': '2025-05-14 14:45:46',\n",
       " 'next_step': None,\n",
       " 'orcid': '0009-0008-1736-961X',\n",
       " 'page': 'experiments',\n",
       " 'rating': 0,\n",
       " 'recent_comment': None,\n",
       " 'related_experiments_links': [{'category_color': '54b3fb',\n",
       "                                'category_title': 'MWE',\n",
       "                                'custom_id': None,\n",
       "                                'entityid': 9,\n",
       "                                'is_bookable': None,\n",
       "                                'link_state': 1,\n",
       "                                'page': 'experiments.php',\n",
       "                                'status_color': '54AA08',\n",
       "                                'status_title': 'Success',\n",
       "                                'title': 'MWE-JF016',\n",
       "                                'type': 'experiments'}],\n",
       " 'related_items_links': [],\n",
       " 'sharelink': 'https://elabftw.dcbp.unibe.ch/experiments.php?mode=view&id=8',\n",
       " 'state': 1,\n",
       " 'status': 18,\n",
       " 'status_color': '54AA08',\n",
       " 'status_title': 'Success',\n",
       " 'steps': [],\n",
       " 'tags': None,\n",
       " 'tags_id': '7,12',\n",
       " 'team': 5,\n",
       " 'template': -1,\n",
       " 'timestamped': 0,\n",
       " 'timestamped_at': None,\n",
       " 'timestampedby': None,\n",
       " 'title': 'INK-JF060',\n",
       " 'type': 'experiments',\n",
       " 'up_item_id': None,\n",
       " 'uploads': [],\n",
       " 'userid': 14}"
      ]
     },
     "execution_count": 7,
     "metadata": {},
     "output_type": "execute_result"
    }
   ],
   "source": [
    "elabftw.get_experiment(\"INK-JF060\")"
   ]
  },
  {
   "cell_type": "code",
   "execution_count": 13,
   "metadata": {},
   "outputs": [
    {
     "data": {
      "text/plain": [
       "6"
      ]
     },
     "metadata": {},
     "output_type": "display_data"
    }
   ],
   "source": [
    "d = elabftw.get_experiment(6)\n",
    "display(d.id)"
   ]
  },
  {
   "cell_type": "code",
   "execution_count": 14,
   "metadata": {},
   "outputs": [
    {
     "data": {
      "text/plain": [
       "{'_date': '2025-05-05',\n",
       " 'access_key': None,\n",
       " 'body': 'Ink Preparation Calculation Results\\n'\n",
       "         '-----------------------------------\\n'\n",
       "         '\\n'\n",
       "         '0. Catalyst Information\\n'\n",
       "         '- Catalyst: ATS-JF060\\n'\n",
       "         '- Composition: Ir 1.0\\n'\n",
       "         '- Support: ATO\\n'\n",
       "         '\\n'\n",
       "         '1. Catalyst Inputs\\n'\n",
       "         '- Catalyst Stock Metal Concentration: 2.5 mg/ml\\n'\n",
       "         '- Metal Loading on Support: 50 wt%\\n'\n",
       "         '- Target Metal Loading on Electrode: 50 µg/cm²\\n'\n",
       "         '- Electrode Area: 0.196 cm²\\n'\n",
       "         '\\n'\n",
       "         '2. Ink Design Targets\\n'\n",
       "         '- Final Ink Volume: 1 ml\\n'\n",
       "         '- Target Metal Concentration in Ink: 2 mg/ml\\n'\n",
       "         '\\n'\n",
       "         '3. Binder Inputs\\n'\n",
       "         '- Binder Stock Concentration: 5 wt%\\n'\n",
       "         '- Binder Calculation Mode: content\\n'\n",
       "         '- Target Binder Content: 25 wt%\\n'\n",
       "         '\\n'\n",
       "         '4. Calculated Results\\n'\n",
       "         '- Required Catalyst Stock Volume: 800.0 µl\\n'\n",
       "         '- Required Binder Stock Volume: 28.86 µl\\n'\n",
       "         '- Remaining Solvent Volume to Add: 171.14 µl\\n'\n",
       "         '- Geometric Binder Loading: 33.33 µg/cm²\\n'\n",
       "         '- Required Ink Volume to Drop-cast: 4.9 µl\\n'\n",
       "         '\\n'\n",
       "         '# Procedure\\n'\n",
       "         '\\n'\n",
       "         'The ink was prepared according to the parameters above. A mixture of '\n",
       "         '2:1 water:iPrOH was used as solvent. The ink was sonicated very '\n",
       "         'shortly (5-10 seconds) with a sonication horn at 20%  to increase '\n",
       "         'dispersion.\\n',\n",
       " 'body_html': '<h2>Ink Preparation Calculation Results</h2>\\n'\n",
       "              '<ol start=\"0\">\\n'\n",
       "              '<li>Catalyst Information</li>\\n'\n",
       "              '</ol>\\n'\n",
       "              '<ul>\\n'\n",
       "              '<li>Catalyst: ATS-JF060</li>\\n'\n",
       "              '<li>Composition: Ir 1.0</li>\\n'\n",
       "              '<li>Support: ATO</li>\\n'\n",
       "              '</ul>\\n'\n",
       "              '<ol>\\n'\n",
       "              '<li>Catalyst Inputs</li>\\n'\n",
       "              '</ol>\\n'\n",
       "              '<ul>\\n'\n",
       "              '<li>Catalyst Stock Metal Concentration: 2.5 mg/ml</li>\\n'\n",
       "              '<li>Metal Loading on Support: 50 wt%</li>\\n'\n",
       "              '<li>Target Metal Loading on Electrode: 50 µg/cm²</li>\\n'\n",
       "              '<li>Electrode Area: 0.196 cm²</li>\\n'\n",
       "              '</ul>\\n'\n",
       "              '<ol start=\"2\">\\n'\n",
       "              '<li>Ink Design Targets</li>\\n'\n",
       "              '</ol>\\n'\n",
       "              '<ul>\\n'\n",
       "              '<li>Final Ink Volume: 1 ml</li>\\n'\n",
       "              '<li>Target Metal Concentration in Ink: 2 mg/ml</li>\\n'\n",
       "              '</ul>\\n'\n",
       "              '<ol start=\"3\">\\n'\n",
       "              '<li>Binder Inputs</li>\\n'\n",
       "              '</ol>\\n'\n",
       "              '<ul>\\n'\n",
       "              '<li>Binder Stock Concentration: 5 wt%</li>\\n'\n",
       "              '<li>Binder Calculation Mode: content</li>\\n'\n",
       "              '<li>Target Binder Content: 25 wt%</li>\\n'\n",
       "              '</ul>\\n'\n",
       "              '<ol start=\"4\">\\n'\n",
       "              '<li>Calculated Results</li>\\n'\n",
       "              '</ol>\\n'\n",
       "              '<ul>\\n'\n",
       "              '<li>Required Catalyst Stock Volume: 800.0 µl</li>\\n'\n",
       "              '<li>Required Binder Stock Volume: 28.86 µl</li>\\n'\n",
       "              '<li>Remaining Solvent Volume to Add: 171.14 µl</li>\\n'\n",
       "              '<li>Geometric Binder Loading: 33.33 µg/cm²</li>\\n'\n",
       "              '<li>Required Ink Volume to Drop-cast: 4.9 µl</li>\\n'\n",
       "              '</ul>\\n'\n",
       "              '<h1>Procedure</h1>\\n'\n",
       "              '<p>The ink was prepared according to the parameters above. A '\n",
       "              'mixture of 2:1 water:iPrOH was used as solvent. The ink was '\n",
       "              'sonicated very shortly (5-10 seconds) with a sonication horn at '\n",
       "              '20%  to increase dispersion.</p>',\n",
       " 'canread': '{\"base\": 30, \"teams\": [5], \"users\": [], \"teamgroups\": []}',\n",
       " 'canwrite': '{\"base\": 20, \"teams\": [5], \"users\": [], \"teamgroups\": []}',\n",
       " 'category': 9,\n",
       " 'category_color': '92065f',\n",
       " 'category_title': 'INK',\n",
       " 'comments': [],\n",
       " 'content_type': 2,\n",
       " 'created_at': '2025-05-14 11:34:36',\n",
       " 'custom_id': None,\n",
       " 'elabid': '20250514-7669ca8abc63c7802c185d9b376810a189825272',\n",
       " 'exclusive_edit_mode': {'is_stale': None,\n",
       "                         'locked_at': None,\n",
       "                         'locked_by': None,\n",
       "                         'locked_by_human': None},\n",
       " 'experiments_links': [{'category_color': '1b92e1',\n",
       "                        'category_title': 'Synt Autoclave (ATS)',\n",
       "                        'custom_id': None,\n",
       "                        'entityid': 6,\n",
       "                        'is_bookable': None,\n",
       "                        'link_state': 1,\n",
       "                        'page': 'experiments.php',\n",
       "                        'status_color': '54AA08',\n",
       "                        'status_title': 'Success',\n",
       "                        'title': 'ATS-JF060',\n",
       "                        'type': 'experiments'}],\n",
       " 'firstname': 'Jonas',\n",
       " 'fullname': 'Jonas Forner',\n",
       " 'has_attachement': None,\n",
       " 'has_comment': 0,\n",
       " 'id': 8,\n",
       " 'items_links': [],\n",
       " 'lastchangeby': 14,\n",
       " 'lastname': 'Forner',\n",
       " 'locked': 0,\n",
       " 'locked_at': None,\n",
       " 'lockedby': None,\n",
       " 'metadata': None,\n",
       " 'modified_at': '2025-05-14 14:45:46',\n",
       " 'next_step': None,\n",
       " 'orcid': '0009-0008-1736-961X',\n",
       " 'page': 'experiments',\n",
       " 'rating': 0,\n",
       " 'recent_comment': None,\n",
       " 'related_experiments_links': [{'category_color': '54b3fb',\n",
       "                                'category_title': 'MWE',\n",
       "                                'custom_id': None,\n",
       "                                'entityid': 9,\n",
       "                                'is_bookable': None,\n",
       "                                'link_state': 1,\n",
       "                                'page': 'experiments.php',\n",
       "                                'status_color': '54AA08',\n",
       "                                'status_title': 'Success',\n",
       "                                'title': 'MWE-JF016',\n",
       "                                'type': 'experiments'}],\n",
       " 'related_items_links': [],\n",
       " 'sharelink': 'https://elabftw.dcbp.unibe.ch/experiments.php?mode=view&id=8',\n",
       " 'state': 1,\n",
       " 'status': 18,\n",
       " 'status_color': '54AA08',\n",
       " 'status_title': 'Success',\n",
       " 'steps': [],\n",
       " 'tags': None,\n",
       " 'tags_id': '7,12',\n",
       " 'team': 5,\n",
       " 'template': -1,\n",
       " 'timestamped': 0,\n",
       " 'timestamped_at': None,\n",
       " 'timestampedby': None,\n",
       " 'title': 'INK-JF060',\n",
       " 'type': 'experiments',\n",
       " 'up_item_id': None,\n",
       " 'uploads': [],\n",
       " 'userid': 14}"
      ]
     },
     "metadata": {},
     "output_type": "display_data"
    }
   ],
   "source": [
    "a = elabftw.get_experiment(\"INK-JF060\")\n",
    "display(a)"
   ]
  },
  {
   "cell_type": "code",
   "execution_count": null,
   "metadata": {},
   "outputs": [
    {
     "name": "stdout",
     "output_type": "stream",
     "text": [
      "Found 3 experiments\n",
      "----1/3------------------ID= 8 \t<Project>\\Arenz_Group_Python\\data_raw\\INK-JF060\n",
      "\t\tSaving file \"INK-JF060.pdf\"\n",
      "\t\tSaving file \"INK-JF060.json\"\n",
      "\t\tNo uploads found\n",
      "----2/3------------------ID= 9 \t<Project>\\Arenz_Group_Python\\data_raw\\INK-JF060\\MWE-JF016\n",
      "\t\tSaving file \"MWE-JF016.pdf\"\n",
      "\t\tSaving file \"MWE-JF016.json\"\n"
     ]
    }
   ],
   "source": [
    "elabftw.download_experiment(\"INK-JF060\")"
   ]
  },
  {
   "cell_type": "code",
   "execution_count": 10,
   "metadata": {},
   "outputs": [],
   "source": [
    "\n",
    "def part1():\n",
    "    ##############################\n",
    "    # Part 1: the /info endpoint #\n",
    "    ##############################\n",
    "    # Doc: https://doc.elabftw.net/api/v2/#/Info/get-info\n",
    "    # Let's start with a very simple endpoint: /info. It only has a GET method and replies with information about the instance.\n",
    "    # It's an easy way to validate if all is working as expected.\n",
    "    # Everytime we want to use an endpoint, we need to create the corresponding object and give it the api_client (which itself holds the configuration)\n",
    "    info_client = elabapi_python.InfoApi(api_client)\n",
    "    api_response = info_client.get_info()\n",
    "    # Print the full response\n",
    "    print(\"\\n------------------------ START PART 1 ------------------------\\n\")\n",
    "    print(\"[request] GET /info\")\n",
    "    print(api_response)\n",
    "    print(\"\")\n",
    "    # Example usage\n",
    "    print(f\"[*] The instance at {API_HOST_URL} has {api_response.teams_count} teams and {api_response.all_users_count} users.\")\n",
    "    print(f\"[*] Total size of uploaded files: {api_response.uploads_filesize_sum_formatted}\")\n",
    "    print(\"\\n------------------------ END PART 1 ------------------------\\n\")\n",
    "#part1()"
   ]
  },
  {
   "cell_type": "code",
   "execution_count": 11,
   "metadata": {},
   "outputs": [
    {
     "ename": "NameError",
     "evalue": "name 'b' is not defined",
     "output_type": "error",
     "traceback": [
      "\u001b[1;31m---------------------------------------------------------------------------\u001b[0m",
      "\u001b[1;31mNameError\u001b[0m                                 Traceback (most recent call last)",
      "Cell \u001b[1;32mIn[11], line 3\u001b[0m\n\u001b[0;32m      1\u001b[0m a \u001b[38;5;241m=\u001b[39m EXPERIMENTS_API\u001b[38;5;241m.\u001b[39mread_experiments()\n\u001b[0;32m      2\u001b[0m \u001b[38;5;28;01mfor\u001b[39;00m i \u001b[38;5;129;01min\u001b[39;00m a:\n\u001b[1;32m----> 3\u001b[0m     \u001b[38;5;28mprint\u001b[39m(\u001b[43mb\u001b[49m)\n",
      "\u001b[1;31mNameError\u001b[0m: name 'b' is not defined"
     ]
    }
   ],
   "source": [
    "a = EXPERIMENTS_API.read_experiments()\n",
    "for i in a:\n",
    "    print(b)"
   ]
  }
 ],
 "metadata": {
  "kernelspec": {
   "display_name": "Python 3",
   "language": "python",
   "name": "python3"
  },
  "language_info": {
   "codemirror_mode": {
    "name": "ipython",
    "version": 3
   },
   "file_extension": ".py",
   "mimetype": "text/x-python",
   "name": "python",
   "nbconvert_exporter": "python",
   "pygments_lexer": "ipython3",
   "version": "3.11.5"
  }
 },
 "nbformat": 4,
 "nbformat_minor": 2
}
