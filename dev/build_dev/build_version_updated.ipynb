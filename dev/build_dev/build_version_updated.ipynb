{
 "cells": [
  {
   "cell_type": "markdown",
   "metadata": {},
   "source": [
    "#increase version of setup file"
   ]
  },
  {
   "cell_type": "code",
   "execution_count": 2,
   "metadata": {},
   "outputs": [
    {
     "name": "stdout",
     "output_type": "stream",
     "text": [
      "Requirement already satisfied: toml in c:\\users\\gustav.wiberg\\appdata\\local\\programs\\python\\python311\\lib\\site-packages (0.10.2)Note: you may need to restart the kernel to use updated packages.\n",
      "\n",
      "Project Version 0.3.5\n"
     ]
    },
    {
     "ename": "TomlDecodeError",
     "evalue": "Unbalanced quotes (line 27 column 75 char 868)",
     "output_type": "error",
     "traceback": [
      "\u001b[1;31m---------------------------------------------------------------------------\u001b[0m",
      "\u001b[1;31mTomlDecodeError\u001b[0m                           Traceback (most recent call last)",
      "Cell \u001b[1;32mIn[2], line 4\u001b[0m\n\u001b[0;32m      1\u001b[0m get_ipython()\u001b[38;5;241m.\u001b[39mrun_line_magic(\u001b[38;5;124m'\u001b[39m\u001b[38;5;124mpip\u001b[39m\u001b[38;5;124m'\u001b[39m, \u001b[38;5;124m'\u001b[39m\u001b[38;5;124minstall toml\u001b[39m\u001b[38;5;124m'\u001b[39m)\n\u001b[0;32m      2\u001b[0m \u001b[38;5;28;01mfrom\u001b[39;00m \u001b[38;5;21;01mver_update\u001b[39;00m \u001b[38;5;28;01mimport\u001b[39;00m version_updated\n\u001b[1;32m----> 4\u001b[0m \u001b[43mversion_updated\u001b[49m\u001b[43m(\u001b[49m\u001b[43m)\u001b[49m\n",
      "File \u001b[1;32mc:\\Users\\gustav.wiberg\\Documents\\GitHub\\BERN\\Arenz_Group_Python\\dev\\build_dev\\ver_update.py:31\u001b[0m, in \u001b[0;36mversion_updated\u001b[1;34m()\u001b[0m\n\u001b[0;32m     29\u001b[0m pyproject \u001b[38;5;241m=\u001b[39m pa \u001b[38;5;241m/\u001b[39m\u001b[38;5;124m\"\u001b[39m\u001b[38;5;124mpyproject.toml\u001b[39m\u001b[38;5;124m\"\u001b[39m\n\u001b[0;32m     30\u001b[0m \u001b[38;5;28;01mwith\u001b[39;00m \u001b[38;5;28mopen\u001b[39m(pyproject, \u001b[38;5;124m\"\u001b[39m\u001b[38;5;124mr\u001b[39m\u001b[38;5;124m\"\u001b[39m) \u001b[38;5;28;01mas\u001b[39;00m f:\n\u001b[1;32m---> 31\u001b[0m     data \u001b[38;5;241m=\u001b[39m \u001b[43mtoml\u001b[49m\u001b[38;5;241;43m.\u001b[39;49m\u001b[43mload\u001b[49m\u001b[43m(\u001b[49m\u001b[43mf\u001b[49m\u001b[43m)\u001b[49m\n\u001b[0;32m     32\u001b[0m \u001b[38;5;28mprint\u001b[39m(data)\n\u001b[0;32m     33\u001b[0m data[\u001b[38;5;124m\"\u001b[39m\u001b[38;5;124mproject\u001b[39m\u001b[38;5;124m\"\u001b[39m][\u001b[38;5;124m\"\u001b[39m\u001b[38;5;124mversion\u001b[39m\u001b[38;5;124m\"\u001b[39m]\u001b[38;5;241m=\u001b[39mproject_version\n",
      "File \u001b[1;32mc:\\Users\\gustav.wiberg\\AppData\\Local\\Programs\\Python\\Python311\\Lib\\site-packages\\toml\\decoder.py:156\u001b[0m, in \u001b[0;36mload\u001b[1;34m(f, _dict, decoder)\u001b[0m\n\u001b[0;32m    154\u001b[0m \u001b[38;5;28;01melse\u001b[39;00m:\n\u001b[0;32m    155\u001b[0m     \u001b[38;5;28;01mtry\u001b[39;00m:\n\u001b[1;32m--> 156\u001b[0m         \u001b[38;5;28;01mreturn\u001b[39;00m \u001b[43mloads\u001b[49m\u001b[43m(\u001b[49m\u001b[43mf\u001b[49m\u001b[38;5;241;43m.\u001b[39;49m\u001b[43mread\u001b[49m\u001b[43m(\u001b[49m\u001b[43m)\u001b[49m\u001b[43m,\u001b[49m\u001b[43m \u001b[49m\u001b[43m_dict\u001b[49m\u001b[43m,\u001b[49m\u001b[43m \u001b[49m\u001b[43mdecoder\u001b[49m\u001b[43m)\u001b[49m\n\u001b[0;32m    157\u001b[0m     \u001b[38;5;28;01mexcept\u001b[39;00m \u001b[38;5;167;01mAttributeError\u001b[39;00m:\n\u001b[0;32m    158\u001b[0m         \u001b[38;5;28;01mraise\u001b[39;00m \u001b[38;5;167;01mTypeError\u001b[39;00m(\u001b[38;5;124m\"\u001b[39m\u001b[38;5;124mYou can only load a file descriptor, filename or \u001b[39m\u001b[38;5;124m\"\u001b[39m\n\u001b[0;32m    159\u001b[0m                         \u001b[38;5;124m\"\u001b[39m\u001b[38;5;124mlist\u001b[39m\u001b[38;5;124m\"\u001b[39m)\n",
      "File \u001b[1;32mc:\\Users\\gustav.wiberg\\AppData\\Local\\Programs\\Python\\Python311\\Lib\\site-packages\\toml\\decoder.py:340\u001b[0m, in \u001b[0;36mloads\u001b[1;34m(s, _dict, decoder)\u001b[0m\n\u001b[0;32m    338\u001b[0m \u001b[38;5;28;01mif\u001b[39;00m openstring \u001b[38;5;129;01mor\u001b[39;00m multilinestr:\n\u001b[0;32m    339\u001b[0m     \u001b[38;5;28;01mif\u001b[39;00m \u001b[38;5;129;01mnot\u001b[39;00m multilinestr:\n\u001b[1;32m--> 340\u001b[0m         \u001b[38;5;28;01mraise\u001b[39;00m TomlDecodeError(\u001b[38;5;124m\"\u001b[39m\u001b[38;5;124mUnbalanced quotes\u001b[39m\u001b[38;5;124m\"\u001b[39m, original, i)\n\u001b[0;32m    341\u001b[0m     \u001b[38;5;28;01mif\u001b[39;00m ((sl[i \u001b[38;5;241m-\u001b[39m \u001b[38;5;241m1\u001b[39m] \u001b[38;5;241m==\u001b[39m \u001b[38;5;124m\"\u001b[39m\u001b[38;5;124m'\u001b[39m\u001b[38;5;124m\"\u001b[39m \u001b[38;5;129;01mor\u001b[39;00m sl[i \u001b[38;5;241m-\u001b[39m \u001b[38;5;241m1\u001b[39m] \u001b[38;5;241m==\u001b[39m \u001b[38;5;124m'\u001b[39m\u001b[38;5;124m\"\u001b[39m\u001b[38;5;124m'\u001b[39m) \u001b[38;5;129;01mand\u001b[39;00m (\n\u001b[0;32m    342\u001b[0m             sl[i \u001b[38;5;241m-\u001b[39m \u001b[38;5;241m2\u001b[39m] \u001b[38;5;241m==\u001b[39m sl[i \u001b[38;5;241m-\u001b[39m \u001b[38;5;241m1\u001b[39m])):\n\u001b[0;32m    343\u001b[0m         sl[i] \u001b[38;5;241m=\u001b[39m sl[i \u001b[38;5;241m-\u001b[39m \u001b[38;5;241m1\u001b[39m]\n",
      "\u001b[1;31mTomlDecodeError\u001b[0m: Unbalanced quotes (line 27 column 75 char 868)"
     ]
    }
   ],
   "source": [
    "%pip install toml\n",
    "from ver_update import version_updated\n",
    "\n",
    "version_updated()\n",
    "\n"
   ]
  }
 ],
 "metadata": {
  "kernelspec": {
   "display_name": "Python 3",
   "language": "python",
   "name": "python3"
  },
  "language_info": {
   "codemirror_mode": {
    "name": "ipython",
    "version": 3
   },
   "file_extension": ".py",
   "mimetype": "text/x-python",
   "name": "python",
   "nbconvert_exporter": "python",
   "pygments_lexer": "ipython3",
   "version": "3.11.5"
  }
 },
 "nbformat": 4,
 "nbformat_minor": 2
}
