{
 "cells": [
  {
   "cell_type": "code",
   "execution_count": 4,
   "metadata": {},
   "outputs": [],
   "source": [
    "from pathlib import Path\n",
    "import requests\n",
    "import re\n",
    "import pandas\n"
   ]
  },
  {
   "cell_type": "code",
   "execution_count": 6,
   "metadata": {},
   "outputs": [],
   "source": [
    "\n",
    "# The simple REST API client for MatInf VRO API\n",
    "class MatInfWebApiClient:\n",
    "    def __init__(self, service_url, api_key):\n",
    "        self.service_url = service_url + \"/vroapi/v1/\"\n",
    "        self.api_key = api_key\n",
    "        self.file_name=\"\"\n",
    "        self.dataframe=None\n",
    "\n",
    "    def getFilename_fromCd(self, cd):\n",
    "        if not cd:\n",
    "            return None\n",
    "        fname = re.findall('filename=(.+)(?:;.+)', cd)\n",
    "        if len(fname) == 0:\n",
    "            return None\n",
    "        self.file_name=fname[0]\n",
    "        return fname[0]\n",
    "\n",
    "    def get_headers(self):\n",
    "        return { 'VroApi': self.api_key }\n",
    "\n",
    "    def execute(self, sql):\n",
    "        headers = self.get_headers()\n",
    "        data = { 'sql': sql }\n",
    "        try:\n",
    "            response = requests.post(self.service_url+\"execute\", headers=headers, data=data)\n",
    "            response.raise_for_status()  # Raise exception for non-2xx status codes\n",
    "            js = response.json()\n",
    "            self.dataframe = pandas.DataFrame.from_dict(js)\n",
    "            return js\n",
    "        except requests.exceptions.RequestException as e:\n",
    "            print(f\"Error: {e}\")\n",
    "            return None\n",
    "\n",
    "    def download(self, id, file_name=None):\n",
    "        headers = self.get_headers()\n",
    "        data = { 'id': id }\n",
    "        try:\n",
    "            response = requests.get(self.service_url+\"download\", params=data, headers=headers)\n",
    "            response.raise_for_status()  # Raise exception for non-2xx status codes\n",
    "\n",
    "            self.file_name=file_name\n",
    "            if not file_name:\n",
    "                file_name = self.getFilename_fromCd(response.headers.get('content-disposition'))\n",
    "                #print('extracted file_name: ' + self.file_name)\n",
    "            open(file_name, 'wb').write(response.content)\n",
    "            return response\n",
    "\n",
    "        except requests.exceptions.RequestException as e:\n",
    "            print(f\"Error: {e}\")\n",
    "            return None\n",
    "\n"
   ]
  },
  {
   "cell_type": "code",
   "execution_count": 7,
   "metadata": {},
   "outputs": [
    {
     "name": "stdout",
     "output_type": "stream",
     "text": [
      "gustav.wiberg@unibe.ch_e84e635b-9fa9-45b9-965e-04648fe635e8\n"
     ]
    }
   ],
   "source": [
    "file_path = 'demi.api'\n",
    "\n",
    "with open(file_path, 'r') as file:\n",
    "    file_content = ''\n",
    "    line = file.readline()\n",
    "    \n",
    "    while line:\n",
    "        file_content += line\n",
    "        line = file.readline()\n",
    "\n",
    "print(file_content)\n"
   ]
  },
  {
   "cell_type": "code",
   "execution_count": null,
   "metadata": {},
   "outputs": [],
   "source": [
    "    tenant_url = \"https://demi.matinf.pro/\" # tenant_url here\n",
    "\n",
    "    open()\n",
    "    # initialise api_key (corresponding VroApi claim must be associated with a user in database)\n",
    "    api_key = \"email_key\" # your_api_key here\n",
    "\n",
    "    client = MatInfWebApiClient(tenant_url, api_key)\n",
    "\n",
    "    result = client.execute(\"select * from vroTypeInfo\")\n",
    "    if result:\n",
    "        print(\"API Response(execute):\", result)\n",
    "        print(\"API Response(execute): \", client.dataframe)\n",
    "\n",
    "    result = client.download(43511)\t# ObjectId\n",
    "    if result:\n",
    "        print(f\"API Response(download, {client.file_name}):\", result)"
   ]
  }
 ],
 "metadata": {
  "kernelspec": {
   "display_name": "Python 3",
   "language": "python",
   "name": "python3"
  },
  "language_info": {
   "codemirror_mode": {
    "name": "ipython",
    "version": 3
   },
   "file_extension": ".py",
   "mimetype": "text/x-python",
   "name": "python",
   "nbconvert_exporter": "python",
   "pygments_lexer": "ipython3",
   "version": "3.12.1"
  }
 },
 "nbformat": 4,
 "nbformat_minor": 2
}
